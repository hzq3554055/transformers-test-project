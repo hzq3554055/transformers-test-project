{
  "cells": [
    {
      "cell_type": "markdown",
      "metadata": {},
      "source": [
        "# Quick Start Guide\n",
        "\n",
        "This notebook demonstrates the basic usage of the transformers testing framework.\n"
      ]
    },
    {
      "cell_type": "code",
      "execution_count": null,
      "metadata": {},
      "outputs": [],
      "source": [
        "# Import the framework\n",
        "import sys\n",
        "sys.path.append('../src')\n",
        "\n",
        "from transformers_test import ModelTester, DataProcessor, setup_logging\n",
        "import torch\n"
      ]
    },
    {
      "cell_type": "markdown",
      "metadata": {},
      "source": [
        "## 1. Setup Logging\n"
      ]
    },
    {
      "cell_type": "code",
      "execution_count": null,
      "metadata": {},
      "outputs": [],
      "source": [
        "# Setup logging\n",
        "logger = setup_logging(level='INFO')\n",
        "logger.info('Transformers testing framework initialized')\n"
      ]
    },
    {
      "cell_type": "markdown",
      "metadata": {},
      "source": [
        "## 2. Test Model Inference\n"
      ]
    },
    {
      "cell_type": "code",
      "execution_count": null,
      "metadata": {},
      "outputs": [],
      "source": [
        "# Initialize model tester\n",
        "tester = ModelTester(\n",
        "    model_name='bert-base-uncased',\n",
        "    task_type='classification'\n",
        ")\n",
        "\n",
        "# Test inference\n",
        "text = \"Hello world, this is a test sentence.\"\n",
        "result = tester.test_inference(text)\n",
        "\n",
        "print(f\"Input: {result['input_text']}\")\n",
        "print(f\"Model: {result['model_name']}\")\n",
        "print(f\"Device: {result['device']}\")\n",
        "print(f\"Input length: {result['input_length']}\")\n"
      ]
    }
  ],
  "metadata": {
    "language_info": {
      "name": "python"
    }
  },
  "nbformat": 4,
  "nbformat_minor": 2
}
